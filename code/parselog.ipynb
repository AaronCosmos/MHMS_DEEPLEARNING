{
 "cells": [
  {
   "cell_type": "code",
   "execution_count": 3,
   "metadata": {},
   "outputs": [
    {
     "name": "stdout",
     "output_type": "stream",
     "text": [
      "linear svr\n",
      "248.874136\n",
      "0.0\n",
      "13.735667\n",
      "1.7763568394e-15\n",
      "rbf svr\n",
      "402.926165\n",
      "0.0\n",
      "17.628641\n",
      "0.0\n",
      "randomforest\n",
      "290.3116528\n",
      "6.81128790012\n",
      "14.3271596\n",
      "0.111864035537\n",
      "neural network\n",
      "201.9077936\n",
      "47.8020523203\n",
      "11.9378014\n",
      "1.94015827776\n",
      "normal ae\n",
      "202.7625448\n",
      "21.9356445457\n",
      "12.0535586\n",
      "0.946225616229\n",
      "denoise ae\n",
      "184.6590638\n",
      "39.2076104463\n",
      "10.9430136\n",
      "1.87532407882\n",
      "bi-lstm\n",
      "191.4246684\n",
      "54.4972685157\n",
      "11.0160052\n",
      "1.85222317692\n",
      "lstm\n",
      "176.0887453\n",
      "42.3796475169\n",
      "10.5039375\n",
      "1.44205080406\n",
      "cnn\n",
      "289.2008744\n",
      "113.549608611\n",
      "13.4632994\n",
      "2.480909275\n"
     ]
    }
   ],
   "source": [
    "filepath = 'tool_wear_sensing.log'\n",
    "import numpy as np\n",
    "def parse_line(str_res):\n",
    "    results = str_res.split(\"result:\")[1].strip()\n",
    "    mse, mae = results.split('_')\n",
    "    return float(mse), float(mae)\n",
    "\n",
    "\n",
    "model_names = ['linear svr', 'rbf svr', 'randomforest', 'neural network', 'normal ae', 'denoise ae', 'bi-lstm', 'lstm', 'cnn']\n",
    "for model_name in model_names:\n",
    "    print model_name\n",
    "    mse_array = []\n",
    "    mae_array = []\n",
    "    with open(filepath) as fp:\n",
    "        for line in fp:\n",
    "            if model_name in line:\n",
    "                mse, mae = parse_line(line)\n",
    "                mse_array.append(mse)\n",
    "                mae_array.append(mae)\n",
    "    print np.mean(mse_array)\n",
    "    print np.std(mse_array)\n",
    "    print np.mean(mae_array)\n",
    "    print np.std(mae_array)\n",
    "                "
   ]
  },
  {
   "cell_type": "code",
   "execution_count": 8,
   "metadata": {},
   "outputs": [
    {
     "name": "stdout",
     "output_type": "stream",
     "text": [
      "[]\n"
     ]
    }
   ],
   "source": [
    "import re\n",
    "\n",
    "input_str = '20/01/2018 11:27:12    cnn: 312.619199_15.422117'\n",
    "p = re.findall(r'^[0-9]_^[0-9]*$', input_str)\n",
    "\n",
    "print p\n"
   ]
  },
  {
   "cell_type": "code",
   "execution_count": null,
   "metadata": {},
   "outputs": [],
   "source": []
  }
 ],
 "metadata": {
  "kernelspec": {
   "display_name": "Python 2",
   "language": "python",
   "name": "python2"
  },
  "language_info": {
   "codemirror_mode": {
    "name": "ipython",
    "version": 2
   },
   "file_extension": ".py",
   "mimetype": "text/x-python",
   "name": "python",
   "nbconvert_exporter": "python",
   "pygments_lexer": "ipython2",
   "version": "2.7.10"
  }
 },
 "nbformat": 4,
 "nbformat_minor": 2
}
